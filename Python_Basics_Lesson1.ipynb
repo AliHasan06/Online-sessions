{
 "cells": [
  {
   "cell_type": "markdown",
   "id": "49357033",
   "metadata": {},
   "source": [
    "## 📘 1. Introduction to Python"
   ]
  },
  {
   "cell_type": "code",
   "execution_count": 1,
   "id": "49ad2a3b",
   "metadata": {},
   "outputs": [
    {
     "name": "stdout",
     "output_type": "stream",
     "text": [
      "Welcome to Python Programming!\n"
     ]
    }
   ],
   "source": [
    "# Python is an easy-to-learn, powerful programming language.\n",
    "# It is widely used for web development, data science, automation, and more.\n",
    "\n",
    "print(\"Welcome to Python Programming!\")"
   ]
  },
  {
   "cell_type": "code",
   "execution_count": null,
   "id": "581a1463",
   "metadata": {},
   "outputs": [],
   "source": [
    "# 🧠 Exercise:\n",
    "# Print your name and favorite hobby\n",
    "print(\"My name is Ali\")\n",
    "print(\"I love reading tech blogs!\")"
   ]
  },
  {
   "cell_type": "markdown",
   "id": "224d74e8",
   "metadata": {},
   "source": [
    "## 📘 2. Basic Syntax"
   ]
  },
  {
   "cell_type": "code",
   "execution_count": null,
   "id": "d0831857",
   "metadata": {},
   "outputs": [],
   "source": [
    "# Python uses indentation to define blocks of code.\n",
    "age = 18\n",
    "if age >= 18:\n",
    "    print(\"You are an adult.\")\n",
    "else:\n",
    "    print(\"You are a minor.\")"
   ]
  },
  {
   "cell_type": "code",
   "execution_count": null,
   "id": "874d34d2",
   "metadata": {},
   "outputs": [],
   "source": [
    "# Comments in Python\n",
    "# This is a single-line comment\n",
    "\"\"\"\n",
    "This is a \n",
    "multi-line comment\n",
    "\"\"\"\n",
    "print(\"Learning syntax is fun!\")"
   ]
  },
  {
   "cell_type": "code",
   "execution_count": null,
   "id": "c4b79109",
   "metadata": {},
   "outputs": [],
   "source": [
    "# 🧠 Exercise:\n",
    "# Print your age, school, and whether you like Python\n",
    "my_age = 18\n",
    "school = \"Al Kawthar University\"\n",
    "likes_python = True\n",
    "\n",
    "print(\"Age:\", my_age)\n",
    "print(\"School:\", school)\n",
    "print(\"Do I like Python?\", likes_python)"
   ]
  },
  {
   "cell_type": "markdown",
   "id": "d27ffddb",
   "metadata": {},
   "source": [
    "## 📘 3. Data Types"
   ]
  },
  {
   "cell_type": "code",
   "execution_count": null,
   "id": "0a918c0c",
   "metadata": {},
   "outputs": [],
   "source": [
    "# Integer\n",
    "num1 = 100\n",
    "print(\"Integer:\", num1, \"| Type:\", type(num1))"
   ]
  },
  {
   "cell_type": "code",
   "execution_count": null,
   "id": "e3899375",
   "metadata": {},
   "outputs": [],
   "source": [
    "# Float\n",
    "num2 = 99.99\n",
    "print(\"Float:\", num2, \"| Type:\", type(num2))"
   ]
  },
  {
   "cell_type": "code",
   "execution_count": null,
   "id": "f594b3e2",
   "metadata": {},
   "outputs": [],
   "source": [
    "# String\n",
    "message = \"Python is powerful!\"\n",
    "print(\"String:\", message, \"| Type:\", type(message))"
   ]
  },
  {
   "cell_type": "code",
   "execution_count": null,
   "id": "80351f11",
   "metadata": {},
   "outputs": [],
   "source": [
    "# Boolean\n",
    "is_smart = True\n",
    "print(\"Boolean:\", is_smart, \"| Type:\", type(is_smart))"
   ]
  },
  {
   "cell_type": "code",
   "execution_count": null,
   "id": "78f097b0",
   "metadata": {},
   "outputs": [],
   "source": [
    "# NoneType\n",
    "empty = None\n",
    "print(\"NoneType:\", empty, \"| Type:\", type(empty))"
   ]
  },
  {
   "cell_type": "code",
   "execution_count": null,
   "id": "20196783",
   "metadata": {},
   "outputs": [],
   "source": [
    "# Type Conversion\n",
    "a = \"123\"\n",
    "b = int(a)\n",
    "c = float(b)\n",
    "print(\"Original:\", a, \"| After int():\", b, \"| After float():\", c)"
   ]
  },
  {
   "cell_type": "code",
   "execution_count": null,
   "id": "bcc58e93",
   "metadata": {},
   "outputs": [],
   "source": [
    "# 🧠 Exercise:\n",
    "# Convert \"3.14\" to float and multiply by 2\n",
    "x = \"3.14\"\n",
    "y = float(x)\n",
    "result = y * 2\n",
    "print(\"Result:\", result)"
   ]
  },
  {
   "cell_type": "markdown",
   "id": "d5c49ab2",
   "metadata": {},
   "source": [
    "## 📘 4. Variables"
   ]
  },
  {
   "cell_type": "code",
   "execution_count": null,
   "id": "41dc610a",
   "metadata": {},
   "outputs": [],
   "source": [
    "# Storing values in variables\n",
    "x = 10\n",
    "y = 20\n",
    "name = \"ali\"\n",
    "is_online = False\n",
    "\n",
    "print(\"x:\", x)\n",
    "print(\"y:\", y)\n",
    "print(\"name:\", name)\n",
    "print(\"Is online?\", is_online)"
   ]
  },
  {
   "cell_type": "code",
   "execution_count": null,
   "id": "2a11f474",
   "metadata": {},
   "outputs": [],
   "source": [
    "# Variable Naming Rules\n",
    "my_name = \"Ali\"\n",
    "_underscore = 5\n",
    "number123 = 10\n",
    "# Invalid examples (won't run):\n",
    "# 2cool = \"no\"\n",
    "# first-name = \"Ali\"\n"
   ]
  },
  {
   "cell_type": "code",
   "execution_count": null,
   "id": "8bdd3fd1",
   "metadata": {},
   "outputs": [],
   "source": [
    "# Multiple Assignments\n",
    "a, b, c = 1, 2, 3\n",
    "print(a, b, c)\n",
    "\n",
    "x = y = z = 100\n",
    "print(x, y, z)"
   ]
  },
  {
   "cell_type": "code",
   "execution_count": null,
   "id": "9af7c38d",
   "metadata": {},
   "outputs": [],
   "source": [
    "# 🧠 Exercise:\n",
    "# Create variables for your favorite number, country, and student status\n",
    "fav_number = 7\n",
    "country = \"Pakistan\"\n",
    "is_student = True\n",
    "\n",
    "print(\"Number:\", fav_number)\n",
    "print(\"Country:\", country)\n",
    "print(\"Student:\", is_student)"
   ]
  },
  {
   "cell_type": "markdown",
   "id": "abfba6b1",
   "metadata": {},
   "source": [
    "### 📌 Mini Quiz"
   ]
  },
  {
   "cell_type": "code",
   "execution_count": null,
   "id": "5c8b28bb",
   "metadata": {},
   "outputs": [],
   "source": [
    "x = 5\n",
    "y = \"5\"\n",
    "print(x + int(y))  # Output: 10"
   ]
  }
 ],
 "metadata": {
  "kernelspec": {
   "display_name": "base",
   "language": "python",
   "name": "python3"
  },
  "language_info": {
   "codemirror_mode": {
    "name": "ipython",
    "version": 3
   },
   "file_extension": ".py",
   "mimetype": "text/x-python",
   "name": "python",
   "nbconvert_exporter": "python",
   "pygments_lexer": "ipython3",
   "version": "3.12.7"
  }
 },
 "nbformat": 4,
 "nbformat_minor": 5
}
