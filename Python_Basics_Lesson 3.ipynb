{
 "cells": [
  {
   "cell_type": "markdown",
   "id": "8cac0725",
   "metadata": {},
   "source": [
    "# Python Session: Tuples, Sets, and List Methods\n",
    "# Duration: 60–70 Minutes"
   ]
  },
  {
   "cell_type": "code",
   "execution_count": 1,
   "id": "4bcc0541",
   "metadata": {},
   "outputs": [
    {
     "name": "stdout",
     "output_type": "stream",
     "text": [
      "Welcome to today's session on Tuples, Sets, and List Methods!\n",
      "Make sure to follow along and try the examples in your own Jupyter Notebook.\n"
     ]
    }
   ],
   "source": [
    "print(\"Welcome to today's session on Tuples, Sets, and List Methods!\")\n",
    "print(\"Make sure to follow along and try the examples in your own Jupyter Notebook.\")"
   ]
  },
  {
   "cell_type": "markdown",
   "id": "4616b211",
   "metadata": {},
   "source": [
    "# Tuples\n",
    "# What is a Tuple?\n",
    "# - Immutable\n",
    "# - Ordered\n",
    "# - Allows duplicate values"
   ]
  },
  {
   "cell_type": "code",
   "execution_count": 2,
   "id": "3da69d43",
   "metadata": {},
   "outputs": [
    {
     "name": "stdout",
     "output_type": "stream",
     "text": [
      "(1, 2, 3, 4, 5)\n",
      "('apple', 'banana', 'cherry')\n",
      "(1, 'hello', 3.4)\n"
     ]
    }
   ],
   "source": [
    "tuple1 = (1, 2, 3, 4, 5)\n",
    "tuple2 = (\"apple\", \"banana\", \"cherry\")\n",
    "tuple3 = (1, \"hello\", 3.4)\n",
    "\n",
    "print(tuple1)\n",
    "print(tuple2)\n",
    "print(tuple3)"
   ]
  },
  {
   "cell_type": "markdown",
   "id": "268c3c7a",
   "metadata": {},
   "source": [
    "# Accessing Tuple Elements\n",
    "print(tuple1[0])\n",
    "print(tuple2[-1])"
   ]
  },
  {
   "cell_type": "markdown",
   "id": "58d5ac62",
   "metadata": {},
   "source": [
    "# Tuple Slicing\n",
    "print(tuple1[1:4])"
   ]
  },
  {
   "cell_type": "markdown",
   "id": "b2f32c32",
   "metadata": {},
   "source": [
    "# Tuple Methods\n",
    "print(tuple1.count(2))\n",
    "print(tuple1.index(4))"
   ]
  },
  {
   "cell_type": "code",
   "execution_count": 3,
   "id": "146be8e9",
   "metadata": {},
   "outputs": [
    {
     "name": "stdout",
     "output_type": "stream",
     "text": [
      "10 20 30\n"
     ]
    }
   ],
   "source": [
    "# Tuple Unpacking\n",
    "a, b, c = (10, 20, 30)\n",
    "print(a, b, c)"
   ]
  },
  {
   "cell_type": "markdown",
   "id": "c214acb3",
   "metadata": {},
   "source": [
    "# Sets\n",
    "# What is a Set?\n",
    "# - Unordered\n",
    "# - Mutable\n",
    "# - No duplicates allowed"
   ]
  },
  {
   "cell_type": "code",
   "execution_count": 4,
   "id": "608b55e8",
   "metadata": {},
   "outputs": [
    {
     "name": "stdout",
     "output_type": "stream",
     "text": [
      "{1, 2, 3, 4, 5}\n",
      "{'cherry', 'apple', 'banana'}\n"
     ]
    }
   ],
   "source": [
    "set1 = {1, 2, 3, 4, 5}\n",
    "set2 = {3, 4, 5, 6, 7}\n",
    "set3 = set([\"apple\", \"banana\", \"cherry\"])\n",
    "\n",
    "print(set1)\n",
    "print(set3)"
   ]
  },
  {
   "cell_type": "code",
   "execution_count": 5,
   "id": "00db2c07",
   "metadata": {},
   "outputs": [
    {
     "name": "stdout",
     "output_type": "stream",
     "text": [
      "{1, 2, 3, 4, 5, 6}\n"
     ]
    }
   ],
   "source": [
    "set1.add(6)\n",
    "print(set1)"
   ]
  },
  {
   "cell_type": "code",
   "execution_count": 6,
   "id": "087310c5",
   "metadata": {},
   "outputs": [
    {
     "name": "stdout",
     "output_type": "stream",
     "text": [
      "{1, 3, 4, 5, 6}\n"
     ]
    }
   ],
   "source": [
    "set1.remove(2)\n",
    "print(set1)"
   ]
  },
  {
   "cell_type": "code",
   "execution_count": 7,
   "id": "6f66a023",
   "metadata": {},
   "outputs": [
    {
     "name": "stdout",
     "output_type": "stream",
     "text": [
      "{1, 3, 4, 5, 6, 7}\n",
      "{3, 4, 5, 6}\n",
      "{1}\n"
     ]
    }
   ],
   "source": [
    "print(set1.union(set2))\n",
    "print(set1.intersection(set2))\n",
    "print(set1.difference(set2))"
   ]
  },
  {
   "cell_type": "code",
   "execution_count": 8,
   "id": "1d3361c1",
   "metadata": {},
   "outputs": [
    {
     "name": "stdout",
     "output_type": "stream",
     "text": [
      "True\n"
     ]
    }
   ],
   "source": [
    "print(3 in set1)"
   ]
  },
  {
   "cell_type": "markdown",
   "id": "185b8dce",
   "metadata": {},
   "source": [
    "# Lists\n",
    "# Lists are Ordered, Mutable, and Allow Duplicates"
   ]
  },
  {
   "cell_type": "code",
   "execution_count": 9,
   "id": "f24dd6e1",
   "metadata": {},
   "outputs": [],
   "source": [
    "my_list = [10, 20, 30, 40, 50]"
   ]
  },
  {
   "cell_type": "code",
   "execution_count": 10,
   "id": "0a9bbc09",
   "metadata": {},
   "outputs": [
    {
     "name": "stdout",
     "output_type": "stream",
     "text": [
      "[10, 20, 30, 40, 50, 60]\n"
     ]
    }
   ],
   "source": [
    "my_list.append(60)\n",
    "print(my_list)"
   ]
  },
  {
   "cell_type": "code",
   "execution_count": 11,
   "id": "cc103656",
   "metadata": {},
   "outputs": [
    {
     "name": "stdout",
     "output_type": "stream",
     "text": [
      "[10, 20, 25, 30, 40, 50, 60]\n"
     ]
    }
   ],
   "source": [
    "my_list.insert(2, 25)\n",
    "print(my_list)"
   ]
  },
  {
   "cell_type": "code",
   "execution_count": 12,
   "id": "7cd0ae74",
   "metadata": {},
   "outputs": [
    {
     "name": "stdout",
     "output_type": "stream",
     "text": [
      "[10, 20, 25, 30, 50, 60]\n"
     ]
    }
   ],
   "source": [
    "my_list.remove(40)\n",
    "print(my_list)"
   ]
  },
  {
   "cell_type": "code",
   "execution_count": 13,
   "id": "1e73c9d4",
   "metadata": {},
   "outputs": [
    {
     "name": "stdout",
     "output_type": "stream",
     "text": [
      "60\n",
      "[10, 20, 25, 30, 50]\n"
     ]
    }
   ],
   "source": [
    "popped_item = my_list.pop()\n",
    "print(popped_item)\n",
    "print(my_list)"
   ]
  },
  {
   "cell_type": "code",
   "execution_count": 14,
   "id": "ac3daaaa",
   "metadata": {},
   "outputs": [
    {
     "name": "stdout",
     "output_type": "stream",
     "text": [
      "3\n"
     ]
    }
   ],
   "source": [
    "print(my_list.index(30))"
   ]
  },
  {
   "cell_type": "code",
   "execution_count": 15,
   "id": "c53787a1",
   "metadata": {},
   "outputs": [
    {
     "name": "stdout",
     "output_type": "stream",
     "text": [
      "1\n"
     ]
    }
   ],
   "source": [
    "print(my_list.count(20))"
   ]
  },
  {
   "cell_type": "code",
   "execution_count": 16,
   "id": "b9dff2ce",
   "metadata": {},
   "outputs": [
    {
     "name": "stdout",
     "output_type": "stream",
     "text": [
      "[50, 30, 25, 20, 10]\n"
     ]
    }
   ],
   "source": [
    "my_list.reverse()\n",
    "print(my_list)"
   ]
  },
  {
   "cell_type": "code",
   "execution_count": 17,
   "id": "ad3157a5",
   "metadata": {},
   "outputs": [
    {
     "name": "stdout",
     "output_type": "stream",
     "text": [
      "[10, 20, 25, 30, 50]\n"
     ]
    }
   ],
   "source": [
    "my_list.sort()\n",
    "print(my_list)"
   ]
  },
  {
   "cell_type": "code",
   "execution_count": 18,
   "id": "4fdbc11e",
   "metadata": {},
   "outputs": [
    {
     "name": "stdout",
     "output_type": "stream",
     "text": [
      "[10, 20, 25, 30, 50]\n"
     ]
    }
   ],
   "source": [
    "copied_list = my_list.copy()\n",
    "print(copied_list)"
   ]
  },
  {
   "cell_type": "code",
   "execution_count": 19,
   "id": "44a64b80",
   "metadata": {},
   "outputs": [
    {
     "name": "stdout",
     "output_type": "stream",
     "text": [
      "[]\n"
     ]
    }
   ],
   "source": [
    "my_list.clear()\n",
    "print(my_list)"
   ]
  },
  {
   "cell_type": "markdown",
   "id": "fd52119c",
   "metadata": {},
   "source": [
    "# Practice Exercises\n",
    "# 1. Create a tuple with numbers from 1 to 10 and print all even numbers.\n",
    "# 2. Create two sets of favorite fruits. Find the common ones.\n",
    "# 3. Make a list, perform insert, append, remove, and reverse operations on it."
   ]
  },
  {
   "cell_type": "code",
   "execution_count": 20,
   "id": "9a4b59c8",
   "metadata": {},
   "outputs": [
    {
     "name": "stdout",
     "output_type": "stream",
     "text": [
      "Great job today! We covered:\n",
      "- Tuples: creation, access, slicing, methods, unpacking\n",
      "- Sets: creation, basic operations, methods\n",
      "- List methods: add, remove, sort, and more\n"
     ]
    }
   ],
   "source": [
    "print(\"Great job today! We covered:\")\n",
    "print(\"- Tuples: creation, access, slicing, methods, unpacking\")\n",
    "print(\"- Sets: creation, basic operations, methods\")\n",
    "print(\"- List methods: add, remove, sort, and more\")\n",
    "\n",
    "# Quiz will follow shortly. Stay tuned!"
   ]
  }
 ],
 "metadata": {
  "kernelspec": {
   "display_name": "base",
   "language": "python",
   "name": "python3"
  },
  "language_info": {
   "codemirror_mode": {
    "name": "ipython",
    "version": 3
   },
   "file_extension": ".py",
   "mimetype": "text/x-python",
   "name": "python",
   "nbconvert_exporter": "python",
   "pygments_lexer": "ipython3",
   "version": "3.12.7"
  }
 },
 "nbformat": 4,
 "nbformat_minor": 5
}
