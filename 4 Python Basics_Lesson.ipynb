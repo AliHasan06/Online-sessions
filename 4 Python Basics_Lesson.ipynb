{
  "cells": [
    {
      "cell_type": "markdown",
      "id": "b3521520",
      "metadata": {
        "id": "b3521520"
      },
      "source": [
        "# Python Basics by Ali Hasan\n",
        "---\n",
        "This notebook is designed for beginners and will cover:\n",
        "- Lists\n",
        "- Slicing\n",
        "- Dictionaries\n",
        "- A simple Streamlit app\n",
        "\n",
        "Examples are based on scenarios in Karachi, Pakistan."
      ]
    },
    {
      "cell_type": "markdown",
      "id": "0a8fa2c0",
      "metadata": {
        "id": "0a8fa2c0"
      },
      "source": [
        "## Lists\n",
        "A list is a collection of items which is ordered and changeable. You can store anything in a list."
      ]
    },
    {
      "cell_type": "code",
      "execution_count": null,
      "id": "b04830c0",
      "metadata": {
        "colab": {
          "base_uri": "https://localhost:8080/"
        },
        "id": "b04830c0",
        "outputId": "6f67694d-91c7-4123-a935-46b398e19944"
      },
      "outputs": [
        {
          "output_type": "stream",
          "name": "stdout",
          "text": [
            "['Tariq Road', 'Zamzama', 'Empress Market', 'Dolmen Mall']\n"
          ]
        }
      ],
      "source": [
        "karachi_markets = ['Tariq Road', 'Zamzama', 'Empress Market', 'Dolmen Mall']\n",
        "print(karachi_markets)"
      ]
    },
    {
      "cell_type": "markdown",
      "id": "60ea7a32",
      "metadata": {
        "id": "60ea7a32"
      },
      "source": [
        "## Slicing\n",
        "You can access a part of the list using slicing. Here are a few examples:"
      ]
    },
    {
      "cell_type": "markdown",
      "source": [
        "## List Slicing Explained\n",
        "Slicing helps us get a portion of a list. It uses the format: `list[start:stop]`\n",
        "\n",
        "- `start` is the index where the slice starts (inclusive)\n",
        "- `stop` is the index where the slice ends (exclusive)\n",
        "- Indexing starts from 0\n"
      ],
      "metadata": {
        "id": "e5GiQDYf0oa9"
      },
      "id": "e5GiQDYf0oa9"
    },
    {
      "cell_type": "code",
      "source": [
        "karachi_food = ['Biryani', 'Nihari', 'Chaat', 'Bun Kabab', 'Halwa Puri']\n",
        "print(karachi_food[1:4])  # Output: ['Nihari', 'Chaat', 'Bun Kabab']\n"
      ],
      "metadata": {
        "colab": {
          "base_uri": "https://localhost:8080/"
        },
        "id": "fyKUuRCV0srV",
        "outputId": "ba2c4423-00a8-4f54-fe5c-4ca07d33aeda"
      },
      "id": "fyKUuRCV0srV",
      "execution_count": null,
      "outputs": [
        {
          "output_type": "stream",
          "name": "stdout",
          "text": [
            "['Nihari', 'Chaat', 'Bun Kabab']\n"
          ]
        }
      ]
    },
    {
      "cell_type": "code",
      "execution_count": null,
      "id": "9012d871",
      "metadata": {
        "colab": {
          "base_uri": "https://localhost:8080/"
        },
        "id": "9012d871",
        "outputId": "5d170fd3-d87b-4d9f-aaed-12d82e7d82d0"
      },
      "outputs": [
        {
          "output_type": "stream",
          "name": "stdout",
          "text": [
            "['Zamzama', 'Empress Market']\n"
          ]
        }
      ],
      "source": [
        "print(karachi_markets[1:3])  # prints second and third markets"
      ]
    },
    {
      "cell_type": "markdown",
      "source": [
        "We can also use:\n",
        "- `[:n]` to slice from the beginning to index `n`\n",
        "- `[n:]` to slice from index `n` to the end\n",
        "- `[-1]` to access the last item\n"
      ],
      "metadata": {
        "id": "O_R9BV4P0zzF"
      },
      "id": "O_R9BV4P0zzF"
    },
    {
      "cell_type": "code",
      "source": [
        "karachi_food"
      ],
      "metadata": {
        "colab": {
          "base_uri": "https://localhost:8080/"
        },
        "id": "xPaFItaq9N3D",
        "outputId": "2c10c197-a708-421d-b9a7-204a6c6c314f"
      },
      "id": "xPaFItaq9N3D",
      "execution_count": null,
      "outputs": [
        {
          "output_type": "execute_result",
          "data": {
            "text/plain": [
              "['Biryani', 'Nihari', 'Chaat', 'Bun Kabab', 'Halwa Puri']"
            ]
          },
          "metadata": {},
          "execution_count": 13
        }
      ]
    },
    {
      "cell_type": "markdown",
      "source": [
        " 0              1      2         3            4    \n",
        "['Biryani', 'Nihari', 'Chaat', 'Bun Kabab', 'Halwa Puri']\n",
        "\n",
        "            4-            3-            2-       1-"
      ],
      "metadata": {
        "id": "Zc5u5as_A58H"
      },
      "id": "Zc5u5as_A58H"
    },
    {
      "cell_type": "code",
      "source": [
        "karachi_food"
      ],
      "metadata": {
        "colab": {
          "base_uri": "https://localhost:8080/"
        },
        "id": "bYEupZReCJR_",
        "outputId": "4d892bee-9e4c-40cf-8eb1-ee94a771ed5d"
      },
      "id": "bYEupZReCJR_",
      "execution_count": null,
      "outputs": [
        {
          "output_type": "execute_result",
          "data": {
            "text/plain": [
              "['Biryani', 'Nihari', 'Chaat', 'Bun Kabab', 'Halwa Puri']"
            ]
          },
          "metadata": {},
          "execution_count": 23
        }
      ]
    },
    {
      "cell_type": "code",
      "source": [
        "karachi_food[:4:2]\n"
      ],
      "metadata": {
        "colab": {
          "base_uri": "https://localhost:8080/"
        },
        "id": "tHiBBe829RK6",
        "outputId": "55159161-bf4b-4b67-c082-f3055f2cd3a7"
      },
      "id": "tHiBBe829RK6",
      "execution_count": null,
      "outputs": [
        {
          "output_type": "execute_result",
          "data": {
            "text/plain": [
              "['Biryani', 'Chaat']"
            ]
          },
          "metadata": {},
          "execution_count": 24
        }
      ]
    },
    {
      "cell_type": "code",
      "source": [
        "print(karachi_food[:3])    # First three items\n",
        "print(karachi_food[2:])    # Items from index 2 onwards\n",
        "print(karachi_food[-1])    # Last item in the list\n"
      ],
      "metadata": {
        "colab": {
          "base_uri": "https://localhost:8080/"
        },
        "id": "mQbvX89Q0e-h",
        "outputId": "9dd73e19-2e5b-4446-bc3e-ce0356174af2"
      },
      "id": "mQbvX89Q0e-h",
      "execution_count": null,
      "outputs": [
        {
          "output_type": "stream",
          "name": "stdout",
          "text": [
            "['Biryani', 'Nihari', 'Chaat']\n",
            "['Chaat', 'Bun Kabab', 'Halwa Puri']\n",
            "Halwa Puri\n"
          ]
        }
      ]
    },
    {
      "cell_type": "markdown",
      "source": [
        "## 🧠 Slicing in Python – Practice & Concepts\n",
        "\n",
        "### 🔹 Basic Slicing:\n",
        "\n",
        "1. **What is the output of**  \n",
        "   `my_list[2:5]` if `my_list = [10, 20, 30, 40, 50, 60]`?  \n",
        "   ➤ This tests your understanding of basic slicing — how it includes the start index (2) and excludes the stop index (5).\n",
        "\n",
        "2. **Create a list of numbers from 1 to 10.**  \n",
        "   Using slicing, extract the elements from index 3 to 7 (inclusive).  \n",
        "   ➤ Remember, list slicing is exclusive of the stop index, so you’ll need to slice up to index 8.\n",
        "\n",
        "3. **What does** `my_list[:]` **do?**  \n",
        "   ➤ This returns a **copy** of the entire list.\n",
        "\n",
        "---\n",
        "\n",
        "### 🔹 Slicing with Steps:\n",
        "\n",
        "4. If `my_list = [1, 2, 3, 4, 5, 6, 7, 8]`,  \n",
        "   **What is the output of** `my_list[::2]`?  \n",
        "   ➤ Introduces using step size to skip every other item.\n",
        "\n",
        "5. **How would you reverse a list using slicing?**  \n",
        "   ➤ Use negative step: `my_list[::-1]`\n",
        "\n",
        "---\n",
        "\n",
        "### 🔹 Advanced Slicing:\n",
        "\n",
        "6. **What is the difference between** `my_list[-1]` **and** `my_list[:-1]`?  \n",
        "   ➤ `my_list[-1]` gives the last element.  \n",
        "   ➤ `my_list[:-1]` gives all elements **except** the last one.\n",
        "\n",
        "7. If `my_list = [[1, 2], [3, 4], [5, 6]]`,  \n",
        "   **How would you access the element 4 using slicing?**  \n",
        "   ➤ First get `my_list[1]` → `[3, 4]`, then slice/index again: `my_list[1][1]`\n",
        "\n",
        "---\n",
        "\n",
        "### 🔹 Slicing in a Colab-like Context:\n",
        "\n",
        "8. You have a list of strings representing file names:  \n",
        "   `files = [\"data1.csv\", \"report.pdf\", \"summary.txt\"]`  \n",
        "   **Use slicing to extract the file extension (e.g., '.txt') from the last element.**  \n",
        "   ➤ `files[-1][-4:]` → `.txt`\n",
        "\n",
        "---\n",
        "\n",
        "### 🎁 Bonus – Mutating with Slicing:\n",
        "\n",
        "9. **Can you modify a list using slicing?**  \n",
        "   ➤ Yes! Example:  \n",
        "   ```python\n",
        "   my_list = [1, 2, 3, 4, 5]  \n",
        "   my_list[1:3] = [20, 30]  \n",
        "   # my_list is now [1, 20, 30, 4, 5]\n"
      ],
      "metadata": {
        "id": "loo5eRZjDR5s"
      },
      "id": "loo5eRZjDR5s"
    },
    {
      "cell_type": "markdown",
      "id": "f50dc829",
      "metadata": {
        "id": "f50dc829"
      },
      "source": [
        "## Dictionaries\n",
        "Dictionaries store data in key-value pairs."
      ]
    },
    {
      "cell_type": "markdown",
      "source": [
        "## More Dictionary Usage\n",
        "Dictionaries are useful when you want to store related information as key-value pairs.\n",
        "For example, student records:\n"
      ],
      "metadata": {
        "id": "WRwQDziD08go"
      },
      "id": "WRwQDziD08go"
    },
    {
      "cell_type": "code",
      "source": [
        "student_record = {\n",
        "    'name': 'Ali Hassan',\n",
        "    'age': 18,\n",
        "    'city': 'Karachi',\n",
        "    'grades': {'Math': 85, 'English': 90}\n",
        "}\n",
        "\n",
        "print(student_record['grades']['Math'])  # Output: 85\n"
      ],
      "metadata": {
        "colab": {
          "base_uri": "https://localhost:8080/"
        },
        "id": "b4LgMm3H098J",
        "outputId": "ab57a03c-88b9-499a-b6cb-e505b8e33bf0"
      },
      "id": "b4LgMm3H098J",
      "execution_count": null,
      "outputs": [
        {
          "output_type": "stream",
          "name": "stdout",
          "text": [
            "85\n"
          ]
        }
      ]
    },
    {
      "cell_type": "code",
      "execution_count": null,
      "id": "fe187f94",
      "metadata": {
        "colab": {
          "base_uri": "https://localhost:8080/"
        },
        "id": "fe187f94",
        "outputId": "88832072-264d-4b73-bc4f-2ebebabba739"
      },
      "outputs": [
        {
          "output_type": "stream",
          "name": "stdout",
          "text": [
            "Karachi\n"
          ]
        }
      ],
      "source": [
        "weather_today = {'city': 'Karachi', 'temperature': 32, 'condition': 'Sunny'}\n",
        "print(weather_today['city'])"
      ]
    },
    {
      "cell_type": "markdown",
      "source": [
        "## Dictionary Methods\n",
        "\n",
        "Here are some useful methods you can use with dictionaries:\n"
      ],
      "metadata": {
        "id": "KFq2lbLp1GC9"
      },
      "id": "KFq2lbLp1GC9"
    },
    {
      "cell_type": "code",
      "source": [
        "# Initialize dictionary\n",
        "karachi_weather = {'Monday': 32, 'Tuesday': 34, 'Wednesday': 30}\n",
        "\n",
        "# Get all keys\n",
        "print(karachi_weather.keys())\n",
        "\n",
        "# Get all values\n",
        "print(karachi_weather.values())\n",
        "\n",
        "# Get all key-value pairs\n",
        "print(karachi_weather.items())\n",
        "\n",
        "# Add or update a key\n",
        "karachi_weather['Thursday'] = 33\n",
        "print(karachi_weather)\n",
        "\n",
        "# Remove a key\n",
        "karachi_weather.pop('Monday')\n",
        "print(karachi_weather)\n",
        "\n",
        "# Check if a key exists\n",
        "print('Tuesday' in karachi_weather)\n"
      ],
      "metadata": {
        "colab": {
          "base_uri": "https://localhost:8080/"
        },
        "id": "8BWddWjj1I0-",
        "outputId": "9921f70d-7d4d-4041-a65c-015ed082d98e"
      },
      "id": "8BWddWjj1I0-",
      "execution_count": null,
      "outputs": [
        {
          "output_type": "stream",
          "name": "stdout",
          "text": [
            "dict_keys(['Monday', 'Tuesday', 'Wednesday'])\n",
            "dict_values([32, 34, 30])\n",
            "dict_items([('Monday', 32), ('Tuesday', 34), ('Wednesday', 30)])\n",
            "{'Monday': 32, 'Tuesday': 34, 'Wednesday': 30, 'Thursday': 33}\n",
            "{'Tuesday': 34, 'Wednesday': 30, 'Thursday': 33}\n",
            "True\n"
          ]
        }
      ]
    },
    {
      "cell_type": "markdown",
      "id": "fd3f183b",
      "metadata": {
        "id": "fd3f183b"
      },
      "source": [
        "## Streamlit Project: Simple Weather App\n",
        "Streamlit allows you to build web apps using Python."
      ]
    },
    {
      "cell_type": "code",
      "execution_count": null,
      "id": "047a773b",
      "metadata": {
        "id": "047a773b"
      },
      "outputs": [],
      "source": [
        "# Save this code in a file called app.py and run it using: streamlit run app.py\n",
        "\n",
        "# import streamlit as st\n",
        "\n",
        "# st.title(\"Karachi Weather App\")\n",
        "# st.write(\"Created by Ali Hassan\")\n",
        "\n",
        "# weather_data = {\n",
        "#     'Monday': {'temperature': 32, 'condition': 'Sunny'},\n",
        "#     'Tuesday': {'temperature': 34, 'condition': 'Humid'},\n",
        "#     'Wednesday': {'temperature': 30, 'condition': 'Cloudy'}\n",
        "# }\n",
        "\n",
        "# day = st.selectbox(\"Select a day\", list(weather_data.keys()))\n",
        "# info = weather_data[day]\n",
        "\n",
        "# st.write(f\"Temperature: {info['temperature']} °C\")\n",
        "# st.write(f\"Condition: {info['condition']}\")\n"
      ]
    }
  ],
  "metadata": {
    "colab": {
      "provenance": []
    },
    "language_info": {
      "name": "python"
    },
    "kernelspec": {
      "name": "python3",
      "display_name": "Python 3"
    }
  },
  "nbformat": 4,
  "nbformat_minor": 5
}